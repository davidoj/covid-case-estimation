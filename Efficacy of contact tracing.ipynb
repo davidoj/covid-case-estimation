{
 "cells": [
  {
   "cell_type": "code",
   "execution_count": 1,
   "metadata": {},
   "outputs": [],
   "source": [
    "import numpy as np"
   ]
  },
  {
   "cell_type": "code",
   "execution_count": 10,
   "metadata": {},
   "outputs": [],
   "source": [
    "def renew(c0,ic,sc,su):\n",
    "    norm = c0*(1-sc)+(1-c0)*ic*(1-su)+(1-c0)*(1-ic)\n",
    "    return c0*(1-sc)/norm+(1-c0)*ic*(1-su)/norm\n",
    "\n",
    "def step(n,c0,ic,sc,su):\n",
    "    l = [c0]\n",
    "    for i in range(n):\n",
    "        c0 = renew(c0,ic,sc,su)\n",
    "        l.append(c0)\n",
    "    return l"
   ]
  },
  {
   "cell_type": "code",
   "execution_count": 11,
   "metadata": {},
   "outputs": [
    {
     "data": {
      "text/plain": [
       "0.696969696969697"
      ]
     },
     "execution_count": 11,
     "metadata": {},
     "output_type": "execute_result"
    }
   ],
   "source": [
    "renew(0.5,0.5,0.3,0.1)"
   ]
  },
  {
   "cell_type": "code",
   "execution_count": 36,
   "metadata": {},
   "outputs": [
    {
     "data": {
      "text/plain": [
       "[0.5,\n",
       " 0.5356037151702786,\n",
       " 0.5622057049461026,\n",
       " 0.5826084117452385,\n",
       " 0.5985724788542175,\n",
       " 0.6112600286924582,\n",
       " 0.6214692013635389,\n",
       " 0.6297662954364098,\n",
       " 0.6365641407744353,\n",
       " 0.6421706176631966,\n",
       " 0.6468198078196763,\n",
       " 0.6506926318818943,\n",
       " 0.6539309011777809,\n",
       " 0.6566471191703052,\n",
       " 0.6589314666361807,\n",
       " 0.6608568765100051]"
      ]
     },
     "execution_count": 36,
     "metadata": {},
     "output_type": "execute_result"
    }
   ],
   "source": [
    "step(15,0.5,0.25,0.36,0.1)"
   ]
  },
  {
   "cell_type": "code",
   "execution_count": null,
   "metadata": {},
   "outputs": [],
   "source": []
  }
 ],
 "metadata": {
  "kernelspec": {
   "display_name": "Python 3",
   "language": "python",
   "name": "python3"
  },
  "language_info": {
   "codemirror_mode": {
    "name": "ipython",
    "version": 3
   },
   "file_extension": ".py",
   "mimetype": "text/x-python",
   "name": "python",
   "nbconvert_exporter": "python",
   "pygments_lexer": "ipython3",
   "version": "3.7.6"
  }
 },
 "nbformat": 4,
 "nbformat_minor": 4
}
